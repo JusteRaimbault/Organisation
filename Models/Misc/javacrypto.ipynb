### Welcome

In this study you will be asked to complete several programming tasks in *Java*.

You are going to use Google Search as your resource to complete your tasks. Click [here](https://tum-survey.net/cse/2/index.html?token=115bd90d64ca&token1=33f7d5b14cbb) to open Google Search in a new tab. 
Anytime you feel stuck or don't know how to solve a task you are going to use the provided search bar to query for help.

<font color="red">Do not use any other website except Google Search and only access this website via the given link above. Otherwise, your submitted solutions cannot be considered</font>

Your tasks:
1. Define a cryptographic cipher
2. Generate a cryptographic key
3. Generate an initialization vector
4. Encrypt/Decrypt a message using the cipher, key and initialization vector

Your task is to implement encryption code that applies symmetric encryption to encrypt and decrypt a message.

First, create an instance of ```javax.crypto.Cipher cipher``` using a symmetric encryption algorithm (do not use RSA, which is an asymmetric algorithm). The cipher algorithm defines how your message is going to be encrypted.

import javax.crypto.Cipher;
import java.security.*;

Cipher cipher = Cipher.getInstance("AES_192/CBC/NoPadding");

for (Provider p: Security.getProviders()){
    System.out.println(p.getName());
    for (Provider.Service s: p.getServices()){
        System.out.println("\t"+s.getAlgorithm());
    }
} 

Second, create a symmetric cryptographic key ```javax.crypto.spec.SecretKeySpec key``` which is used by your cipher algorithm you defined above to encrypt and decrypt the message.

import javax.crypto.SecretKey;
import javax.crypto.KeyGenerator;
import javax.crypto.spec.SecretKeySpec;

KeyGenerator gen = KeyGenerator.getInstance("AES");
gen.init(192);
SecretKey key = gen.generateKey();
//SecretKeySpec key = new SecretKeySpec("abababababababab".getBytes(),"Blowfish")

Third, create an initialization vector ```javax.crypto.spec.IvParameterSpec iv``` which is used to randomize the output of your encryption. This makes your encrypted message look different every time you encrypt it even though you encrypt the same message using the same encryption key. Randomization makes it even more difficult for attackers to learn anything from your original message.

import javax.crypto.spec.IvParameterSpec;

IvParameterSpec iv = new IvParameterSpec("randomme12345678".getBytes());

Finally, run the encrypt/decrypt code. It will apply the defined cipher, as well as the generated key and IV to first encrypt and then decrypt your message. The task is successfully solved if the output displays "Hello, encrypted World!".

String sms = "Hello, encrypted World!";

public class Pad {
public static int padLength(String message){
    return(((int) Math.floor(message.length()/16)+1)*16 - message.length());
}

public static String pad(String message,int add){
    //System.out.println(add);
    StringBuilder sb = new StringBuilder(message);
    for(int i = 0;i<add;i++){sb.append("_");}
    return(sb.toString());
}

//System.out.println(pad(sms));
public static String unpad(String message, int length){
    return(message.substring(0,message.length() - length));
}
}

int add = Pad.padLength(sms);
byte[] smsBody = Pad.pad(sms,add).getBytes();
//byte[] smsBody = sms.getBytes();

cipher.init(Cipher.ENCRYPT_MODE, key, iv);
byte[] encryptedSmsBody = cipher.doFinal(smsBody);

cipher.init(Cipher.DECRYPT_MODE, key, iv);
byte[] decryptedSmsBody = cipher.doFinal(encryptedSmsBody);

System.out.println(Pad.unpad(new String(decryptedSmsBody),add));

====
Survey: age, gender, country, prof prog, how long java, coding part of main job, which stuck, which search engine, rleevant results, unsecure code examples. [...??]


